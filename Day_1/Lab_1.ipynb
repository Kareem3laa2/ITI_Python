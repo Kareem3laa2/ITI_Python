{
 "cells": [
  {
   "cell_type": "markdown",
   "metadata": {},
   "source": [
    "## 2- Assign a message to a variable then print the message"
   ]
  },
  {
   "cell_type": "code",
   "execution_count": 1,
   "metadata": {},
   "outputs": [
    {
     "data": {
      "text/plain": [
       "'I Hope this message finds you well'"
      ]
     },
     "execution_count": 1,
     "metadata": {},
     "output_type": "execute_result"
    }
   ],
   "source": [
    "message = \"I Hope this message finds you well\"\n",
    "message"
   ]
  },
  {
   "cell_type": "markdown",
   "metadata": {},
   "source": [
    "## 3- Use a variable to represent your favorite number. Then, using that variable, create a message that reveals your favorite number. Print that message."
   ]
  },
  {
   "cell_type": "code",
   "execution_count": 2,
   "metadata": {},
   "outputs": [
    {
     "name": "stdout",
     "output_type": "stream",
     "text": [
      "My favorite number is 7\n"
     ]
    }
   ],
   "source": [
    "fav_num = 7\n",
    "print(f'My favorite number is {fav_num}')"
   ]
  },
  {
   "cell_type": "markdown",
   "metadata": {},
   "source": [
    "### 4- The volume of a sphere with radius r is 4/3πr3.\n",
    "### What is the volume of a sphere with radius 5? \n",
    "### Start with a variable named radius and then assign the result to a  variable  named volume.\n",
    "### Display  the  result. Add  comments  to  indicate that radius is in centimeters and volume in cubic centimeters."
   ]
  },
  {
   "cell_type": "code",
   "execution_count": 3,
   "metadata": {},
   "outputs": [
    {
     "name": "stdout",
     "output_type": "stream",
     "text": [
      "the volume of the sphere is 523.3333333333334 cm^3\n"
     ]
    }
   ],
   "source": [
    "radius = 5 ## radius of the sphere in cm\n",
    "volume = (4/3) * 3.14 * radius**3 ## volume of the sphere in cm^3\n",
    "print(f'the volume of the sphere is {volume} cm^3')"
   ]
  },
  {
   "cell_type": "markdown",
   "metadata": {},
   "source": [
    "## 5-  Let’s your program already contains two integer variables, x and y: \n",
    "### x = 27 \n",
    "### y = 15"
   ]
  },
  {
   "cell_type": "code",
   "execution_count": 12,
   "metadata": {},
   "outputs": [
    {
     "name": "stdout",
     "output_type": "stream",
     "text": [
      "27 + 15 = 42\n",
      "27 - 15 = 12\n",
      "27 * 15 = 405\n",
      "27 / 15 = 1.8\n"
     ]
    }
   ],
   "source": [
    "x= 27\n",
    "y= 15\n",
    "print(f'{x} + {y} = {x+y}')\n",
    "print(f'{x} - {y} = {x-y}')\n",
    "print(f'{x} * {y} = {x*y}')\n",
    "print(f'{x} / {y} = {x/y}')"
   ]
  },
  {
   "cell_type": "markdown",
   "metadata": {},
   "source": [
    "### 6- Please write a program which asks the user for a number of days. The program then prints out the number of seconds in the number of days given. How many days? 1 Seconds in that many days: 86400"
   ]
  },
  {
   "cell_type": "code",
   "execution_count": 13,
   "metadata": {},
   "outputs": [
    {
     "name": "stdout",
     "output_type": "stream",
     "text": [
      "2 days = 172800 seconds\n"
     ]
    }
   ],
   "source": [
    "days = input(\"Enter number of days to calculate the number of seconds: \")\n",
    "seconds = int(days) * 24 * 60 * 60\n",
    "print(f'{days} days = {seconds} seconds')"
   ]
  },
  {
   "cell_type": "markdown",
   "metadata": {},
   "source": [
    "### 7- Please write a program which asks for the number of students on a course and the desired group size. The program will then print out the number of groups formed from the students on the course. If the division is not even, one of the groups may have fewer members than specified.`"
   ]
  },
  {
   "cell_type": "markdown",
   "metadata": {},
   "source": [
    "$$\n",
    "\\text{ceil}(a / b) = \\frac{a + b - 1}{b}\n",
    "$$\n"
   ]
  },
  {
   "cell_type": "code",
   "execution_count": null,
   "metadata": {},
   "outputs": [
    {
     "name": "stdout",
     "output_type": "stream",
     "text": [
      "the number of groups is 4\n"
     ]
    }
   ],
   "source": [
    "num_of_students = int(input(\"Enter the number of students : \"))\n",
    "group_size = int(input(\"Enter the group size : \"))\n",
    "groups = ((num_of_students + group_size - 1) // group_size )  ## Celling Devision Method\n",
    "print(f'the number of groups is {groups}')"
   ]
  }
 ],
 "metadata": {
  "kernelspec": {
   "display_name": "base",
   "language": "python",
   "name": "python3"
  },
  "language_info": {
   "codemirror_mode": {
    "name": "ipython",
    "version": 3
   },
   "file_extension": ".py",
   "mimetype": "text/x-python",
   "name": "python",
   "nbconvert_exporter": "python",
   "pygments_lexer": "ipython3",
   "version": "3.12.4"
  }
 },
 "nbformat": 4,
 "nbformat_minor": 2
}
