{
 "cells": [
  {
   "cell_type": "markdown",
   "id": "249e3df9",
   "metadata": {},
   "source": [
    "## 1-  write a function named triangle, which draws a triangle of hashes, and takes one argument. The triangle should be as tall and as wide as the value of the argument."
   ]
  },
  {
   "cell_type": "code",
   "execution_count": 1,
   "id": "68141255",
   "metadata": {},
   "outputs": [
    {
     "name": "stdout",
     "output_type": "stream",
     "text": [
      "#\n",
      "##\n",
      "###\n",
      "####\n",
      "#####\n",
      "######\n",
      "#\n",
      "##\n",
      "###\n"
     ]
    }
   ],
   "source": [
    "def triangle(num):\n",
    "    \"\"\"This function draws a triangle of hashes.\"\"\"\n",
    "    for i in range(1, num + 1):\n",
    "        print('#' * i)\n",
    "\n",
    "triangle(6)\n",
    "triangle(3)"
   ]
  },
  {
   "cell_type": "markdown",
   "id": "4c858813",
   "metadata": {},
   "source": [
    "----------------------------------------------------------------------------------------------------------------"
   ]
  },
  {
   "cell_type": "markdown",
   "id": "84eca582",
   "metadata": {},
   "source": [
    "## 2- Please write a function named greatest_number, which takes three arguments. The function returns the greatest in value of the three."
   ]
  },
  {
   "cell_type": "code",
   "execution_count": 2,
   "id": "92c35e5d",
   "metadata": {},
   "outputs": [],
   "source": [
    "def greatest_number(num1,num2,num3):\n",
    "    \"\"\"This function returns the greatest of three numbers.\"\"\"\n",
    "    max = num1\n",
    "    if num2> max:\n",
    "        max = num2\n",
    "    if num3> max:\n",
    "        max = num3\n",
    "    return max\n",
    "\n",
    "\n"
   ]
  },
  {
   "cell_type": "code",
   "execution_count": 3,
   "id": "101917f5",
   "metadata": {},
   "outputs": [
    {
     "name": "stdout",
     "output_type": "stream",
     "text": [
      "4\n",
      "99\n",
      "0\n"
     ]
    }
   ],
   "source": [
    "print(greatest_number(3, 4, 1)) # 4\n",
    "print(greatest_number(99, -4, 7)) # 99\n",
    "print(greatest_number(0, 0, 0)) # 0"
   ]
  },
  {
   "cell_type": "code",
   "execution_count": null,
   "id": "dd9ff255",
   "metadata": {},
   "outputs": [],
   "source": [
    "def greatest_number(*nums):\n",
    "    \"\"\"This function return the greatest of any numbers count.\"\"\"\n",
    "    max = nums[0]\n",
    "    for num in nums:\n",
    "        if num > max:\n",
    "            max = num\n",
    "    return max"
   ]
  },
  {
   "cell_type": "code",
   "execution_count": 12,
   "id": "fa6ed03c",
   "metadata": {},
   "outputs": [
    {
     "name": "stdout",
     "output_type": "stream",
     "text": [
      "4\n",
      "99\n",
      "0\n"
     ]
    }
   ],
   "source": [
    "print(greatest_number(3, 4, 1)) # 4\n",
    "print(greatest_number(99, -4, 7)) # 99\n",
    "print(greatest_number(0, 0, 0)) # 0"
   ]
  },
  {
   "cell_type": "markdown",
   "id": "9b38fb73",
   "metadata": {},
   "source": [
    "----------------------------------------------------------------------------------------------------------------"
   ]
  },
  {
   "cell_type": "markdown",
   "id": "6d387f39",
   "metadata": {},
   "source": [
    "## 3- Write a function sum_series(n) that calculates the sum of the series"
   ]
  },
  {
   "cell_type": "code",
   "execution_count": 6,
   "id": "57c32368",
   "metadata": {},
   "outputs": [],
   "source": [
    "def sum_series(n):\n",
    "    \"\"\"This function calculates the sum of the series from 1 up to n.\"\"\"\n",
    "    total = 0\n",
    "    for i in range(1 , n + 1):\n",
    "        if i % 2 == 0:\n",
    "            total -= i\n",
    "        else:\n",
    "            total += i\n",
    "    return total"
   ]
  },
  {
   "cell_type": "code",
   "execution_count": 7,
   "id": "fc12fdf6",
   "metadata": {},
   "outputs": [
    {
     "data": {
      "text/plain": [
       "-3"
      ]
     },
     "execution_count": 7,
     "metadata": {},
     "output_type": "execute_result"
    }
   ],
   "source": [
    "sum_series(6) ## 1 - 2 + 3 - 4 + 5 - 6 = -3"
   ]
  },
  {
   "cell_type": "markdown",
   "id": "a13047c7",
   "metadata": {},
   "source": [
    "----------------------------------------------------------------------------------------------------------------"
   ]
  },
  {
   "cell_type": "markdown",
   "id": "84cb0d4a",
   "metadata": {},
   "source": [
    "## 4- Write a Python function to calculate the factorial of a number (a non-negative integer). The function accepts the number as an argument."
   ]
  },
  {
   "cell_type": "code",
   "execution_count": null,
   "id": "b5e7df26",
   "metadata": {},
   "outputs": [],
   "source": [
    "def factorial(n):\n",
    "    \"\"\"This function calculates the factorial of a number.\"\"\"\n",
    "    if n == abs(n):\n",
    "       if  n == 1 or n == 0:\n",
    "          return 1\n",
    "       else:\n",
    "          return n * factorial(n - 1)\n",
    "    else:\n",
    "       return \"Please Try Again with a Positive Number\"\n"
   ]
  },
  {
   "cell_type": "code",
   "execution_count": 9,
   "id": "e8b50f51",
   "metadata": {},
   "outputs": [
    {
     "name": "stdout",
     "output_type": "stream",
     "text": [
      "6\n",
      "Please Try Again with a Positive Number\n"
     ]
    }
   ],
   "source": [
    "print(factorial(3))\n",
    "print(factorial(-5))"
   ]
  },
  {
   "cell_type": "markdown",
   "id": "6bce7359",
   "metadata": {},
   "source": [
    "----------------------------------------------------------------------------------------------------------------"
   ]
  },
  {
   "cell_type": "markdown",
   "id": "7610b40f",
   "metadata": {},
   "source": [
    "## 5- Implemet a function that checks that the string is palindrome or not"
   ]
  },
  {
   "cell_type": "code",
   "execution_count": 10,
   "id": "68110e7f",
   "metadata": {},
   "outputs": [],
   "source": [
    "def palindrome_check(string):\n",
    "    \"\"\"This function checks if a given string is a palindrome.\"\"\"\n",
    "    cleaned_string = string.lower()\n",
    "    reversed_string = cleaned_string[::-1]\n",
    "    \n",
    "    if cleaned_string == reversed_string:\n",
    "        return True\n",
    "    else:\n",
    "        return False"
   ]
  },
  {
   "cell_type": "code",
   "execution_count": 11,
   "id": "3e4b17a5",
   "metadata": {},
   "outputs": [
    {
     "data": {
      "text/plain": [
       "True"
      ]
     },
     "execution_count": 11,
     "metadata": {},
     "output_type": "execute_result"
    }
   ],
   "source": [
    "palindrome_check('abcba')"
   ]
  },
  {
   "cell_type": "code",
   "execution_count": 13,
   "id": "fee19802",
   "metadata": {},
   "outputs": [
    {
     "data": {
      "text/plain": [
       "False"
      ]
     },
     "execution_count": 13,
     "metadata": {},
     "output_type": "execute_result"
    }
   ],
   "source": [
    "palindrome_check('Kareem')"
   ]
  },
  {
   "cell_type": "code",
   "execution_count": null,
   "id": "17f30d64",
   "metadata": {},
   "outputs": [],
   "source": []
  }
 ],
 "metadata": {
  "kernelspec": {
   "display_name": "base",
   "language": "python",
   "name": "python3"
  },
  "language_info": {
   "codemirror_mode": {
    "name": "ipython",
    "version": 3
   },
   "file_extension": ".py",
   "mimetype": "text/x-python",
   "name": "python",
   "nbconvert_exporter": "python",
   "pygments_lexer": "ipython3",
   "version": "3.12.4"
  }
 },
 "nbformat": 4,
 "nbformat_minor": 5
}
