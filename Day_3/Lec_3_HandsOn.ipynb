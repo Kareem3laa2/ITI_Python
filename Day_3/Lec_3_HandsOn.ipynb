{
 "cells": [
  {
   "cell_type": "code",
   "execution_count": null,
   "id": "bfdf599e",
   "metadata": {},
   "outputs": [
    {
     "name": "stdout",
     "output_type": "stream",
     "text": [
      "One of my favourite books is Alice In Wonderland\n"
     ]
    }
   ],
   "source": [
    "def favourite_book(title):\n",
    "    \"\"\"\"This function prints a message about a favourite book.\"\"\"\n",
    "    print(f\"One of my favourite books is {title.title()}\")\n",
    "\n",
    "\n",
    "favourite_book(title=\"Alice in Wonderland\")"
   ]
  },
  {
   "cell_type": "code",
   "execution_count": null,
   "id": "be8a3aa3",
   "metadata": {},
   "outputs": [
    {
     "name": "stdout",
     "output_type": "stream",
     "text": [
      "3.0\n"
     ]
    }
   ],
   "source": [
    "def mean_calc(num1 , num2 , num3):\n",
    "    \"\"\"This function returns the mean of three numbers.\"\"\"\n",
    "    mean = (num1 + num2 + num3) / 3\n",
    "    return mean\n",
    "res = mean_calc(5,3,1)\n",
    "print(res)"
   ]
  },
  {
   "cell_type": "code",
   "execution_count": 2,
   "id": "287d9493",
   "metadata": {},
   "outputs": [
    {
     "name": "stdout",
     "output_type": "stream",
     "text": [
      "2\n",
      "None\n"
     ]
    }
   ],
   "source": [
    "print(print(2))"
   ]
  }
 ],
 "metadata": {
  "kernelspec": {
   "display_name": "base",
   "language": "python",
   "name": "python3"
  },
  "language_info": {
   "codemirror_mode": {
    "name": "ipython",
    "version": 3
   },
   "file_extension": ".py",
   "mimetype": "text/x-python",
   "name": "python",
   "nbconvert_exporter": "python",
   "pygments_lexer": "ipython3",
   "version": "3.12.4"
  }
 },
 "nbformat": 4,
 "nbformat_minor": 5
}
