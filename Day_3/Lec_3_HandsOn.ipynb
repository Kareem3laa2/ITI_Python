{
 "cells": [
  {
   "cell_type": "code",
   "execution_count": 6,
   "id": "bfdf599e",
   "metadata": {},
   "outputs": [
    {
     "name": "stdout",
     "output_type": "stream",
     "text": [
      "One of my favourite books is Alice In Wonderland\n"
     ]
    }
   ],
   "source": [
    "def favourite_book(title):\n",
    "    \"\"\"\"This function prints a message about a favourite book.\"\"\"\n",
    "    print(f\"One of my favourite books is {title.title()}\")\n",
    "\n",
    "\n",
    "favourite_book(\"Alice in Wonderland\")"
   ]
  },
  {
   "cell_type": "code",
   "execution_count": null,
   "id": "be8a3aa3",
   "metadata": {},
   "outputs": [],
   "source": []
  }
 ],
 "metadata": {
  "kernelspec": {
   "display_name": "base",
   "language": "python",
   "name": "python3"
  },
  "language_info": {
   "codemirror_mode": {
    "name": "ipython",
    "version": 3
   },
   "file_extension": ".py",
   "mimetype": "text/x-python",
   "name": "python",
   "nbconvert_exporter": "python",
   "pygments_lexer": "ipython3",
   "version": "3.12.4"
  }
 },
 "nbformat": 4,
 "nbformat_minor": 5
}
