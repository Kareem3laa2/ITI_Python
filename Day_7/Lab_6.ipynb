{
 "cells": [
  {
   "cell_type": "markdown",
   "id": "80bf2b26",
   "metadata": {},
   "source": [
    "## Pagination Problem"
   ]
  },
  {
   "cell_type": "code",
   "execution_count": 1,
   "id": "05c7b4ee",
   "metadata": {},
   "outputs": [],
   "source": [
    "class Pagination:\n",
    "\n",
    "    def __init__(self, items, pagSize):\n",
    "        self.items = items\n",
    "        self.pagSize = pagSize\n",
    "        self.currentPage = 0\n",
    "    \n",
    "    def getVisibleItems(self):\n",
    "        start = self.currentPage * self.pagSize\n",
    "        end = (start + self.pagSize)  \n",
    "        print(f\"Items {start + 1} to {end} of {len(self.items)}\")\n",
    "        print(self.items[start:end])\n",
    "\n",
    "    \n",
    "    def nextPage(self):       ## If we have 30 item and page size of 10, we have 3 pages (0, 1, 2)\n",
    "        \"\"\"This method will move to the next page\"\"\"\n",
    "        if self.currentPage < (len(self.items) // self.pagSize) - 1: ## Check if the current page index less than the max number of pages\n",
    "            self.currentPage += 1\n",
    "        else:\n",
    "            print(\"This is the Last page\")\n",
    "    \n",
    "    \n",
    "    def prevPage(self):\n",
    "        \"\"\"This method will move to the previous page\"\"\"\n",
    "        if self.currentPage > 0:\n",
    "            self.currentPage -= 1\n",
    "        else:\n",
    "            print(\"This is the First page\")\n",
    "    \n",
    "    def firstPage(self):\n",
    "        \"\"\"This method goes to the first page directly\"\"\"\n",
    "        self.currentPage = 0\n",
    "    \n",
    "    def lastPage(self):\n",
    "        \"\"\"This method goes to the last page directly\"\"\"\n",
    "        self.currentPage = ((len(self.items) // self.pagSize) - 1)\n",
    "    \n",
    "    def goToPage(self, page: int):  ## Must check if the entered page is integer or not\n",
    "        \"\"\"This method goes to the page number passed as parameter\"\"\"\n",
    "        if page < 0 or (page > (len(self.items) // self.pagSize) - 1): ## The -1 Here because the index should end at 9 not 10\n",
    "            print(\"Invalid page number\")\n",
    "        else:\n",
    "            self.currentPage = page\n",
    "\n",
    "\n",
    "    def getCurrentPage(self):\n",
    "        print(f\"You are in page number {self.currentPage}\")\n",
    "    \n",
    "\n"
   ]
  },
  {
   "cell_type": "code",
   "execution_count": 26,
   "id": "9f239fe1",
   "metadata": {},
   "outputs": [],
   "source": [
    "nums = [i for i in range(1, 101)]"
   ]
  },
  {
   "cell_type": "code",
   "execution_count": 27,
   "id": "d4958d91",
   "metadata": {},
   "outputs": [
    {
     "data": {
      "text/plain": [
       "10"
      ]
     },
     "execution_count": 27,
     "metadata": {},
     "output_type": "execute_result"
    }
   ],
   "source": [
    "len(nums) // 10"
   ]
  },
  {
   "cell_type": "code",
   "execution_count": 29,
   "id": "814b2f43",
   "metadata": {},
   "outputs": [
    {
     "name": "stdout",
     "output_type": "stream",
     "text": [
      "Items 1 to 4 of 100\n",
      "[1, 2, 3, 4]\n"
     ]
    }
   ],
   "source": [
    "p = Pagination(nums, 4)\n",
    "p.getVisibleItems()"
   ]
  },
  {
   "cell_type": "code",
   "execution_count": 30,
   "id": "f15e3a6d",
   "metadata": {},
   "outputs": [
    {
     "name": "stdout",
     "output_type": "stream",
     "text": [
      "Items 5 to 8 of 100\n",
      "[5, 6, 7, 8]\n"
     ]
    }
   ],
   "source": [
    "p.nextPage()\n",
    "p.getVisibleItems()"
   ]
  },
  {
   "cell_type": "code",
   "execution_count": 31,
   "id": "e23d568f",
   "metadata": {},
   "outputs": [],
   "source": [
    "p.goToPage(10)\n"
   ]
  },
  {
   "cell_type": "code",
   "execution_count": 32,
   "id": "2265224d",
   "metadata": {},
   "outputs": [
    {
     "name": "stdout",
     "output_type": "stream",
     "text": [
      "Items 41 to 44 of 100\n",
      "[41, 42, 43, 44]\n"
     ]
    }
   ],
   "source": [
    "p.getVisibleItems()"
   ]
  },
  {
   "cell_type": "code",
   "execution_count": 33,
   "id": "ce90e34f",
   "metadata": {},
   "outputs": [
    {
     "name": "stdout",
     "output_type": "stream",
     "text": [
      "Items 1 to 4 of 100\n",
      "[1, 2, 3, 4]\n"
     ]
    }
   ],
   "source": [
    "p.goToPage(0)\n",
    "p.getVisibleItems()"
   ]
  },
  {
   "cell_type": "code",
   "execution_count": 34,
   "id": "acfcd8d4",
   "metadata": {},
   "outputs": [
    {
     "name": "stdout",
     "output_type": "stream",
     "text": [
      "Items 1 to 4 of 100\n",
      "[1, 2, 3, 4]\n"
     ]
    }
   ],
   "source": [
    "p.firstPage()\n",
    "p.getVisibleItems()"
   ]
  },
  {
   "cell_type": "code",
   "execution_count": 35,
   "id": "4f3e32b1",
   "metadata": {},
   "outputs": [
    {
     "name": "stdout",
     "output_type": "stream",
     "text": [
      "You are in page number 0\n"
     ]
    }
   ],
   "source": [
    "p.getCurrentPage()"
   ]
  },
  {
   "cell_type": "code",
   "execution_count": 10,
   "id": "a39842af",
   "metadata": {},
   "outputs": [
    {
     "name": "stdout",
     "output_type": "stream",
     "text": [
      "You are in page number 9\n",
      "Items 91 to 100 of 100\n",
      "[91, 92, 93, 94, 95, 96, 97, 98, 99, 100]\n"
     ]
    }
   ],
   "source": [
    "p.lastPage()\n",
    "p.getCurrentPage()\n",
    "p.getVisibleItems()"
   ]
  },
  {
   "cell_type": "code",
   "execution_count": 11,
   "id": "7c463933",
   "metadata": {},
   "outputs": [
    {
     "name": "stdout",
     "output_type": "stream",
     "text": [
      "Invalid page number\n",
      "Items 91 to 100 of 100\n",
      "[91, 92, 93, 94, 95, 96, 97, 98, 99, 100]\n"
     ]
    }
   ],
   "source": [
    "p.goToPage(10)\n",
    "p.getVisibleItems()"
   ]
  },
  {
   "cell_type": "markdown",
   "id": "9ca1b35e",
   "metadata": {},
   "source": [
    "------------------------------------------------------------------"
   ]
  },
  {
   "cell_type": "markdown",
   "id": "d66a3e91",
   "metadata": {},
   "source": [
    "## Coffee Shop"
   ]
  },
  {
   "cell_type": "markdown",
   "id": "b348422e",
   "metadata": {},
   "source": [
    "#### I Used the **return** after the **print** in case I wanted to use the out from a method in anothers"
   ]
  },
  {
   "cell_type": "code",
   "execution_count": 36,
   "id": "7bc9e140",
   "metadata": {},
   "outputs": [],
   "source": [
    "class CoffeeShop:\n",
    "    def __init__(self, name:str, menu:list):\n",
    "        self.name = name\n",
    "        self.menu = menu\n",
    "        self.orders = []\n",
    "    \n",
    "    def add_order(self, item_name):\n",
    "        \"\"\"This method adds order to the order's list\"\"\"\n",
    "        names = [item['name'] for item in self.menu]\n",
    "        if item_name in names:\n",
    "            self.orders.append(item_name)\n",
    "            print(f'Your {item_name} is being prepred')\n",
    "        else:\n",
    "            print(\"This item is currently unavailable\")\n",
    "    \n",
    "    def fulfill_order(self):\n",
    "        \"\"\"This method prints the order that should be served in the order's list\"\"\"\n",
    "        if len(self.orders) == 0 :\n",
    "            print(\"All orders have been fulfilled\")\n",
    "        else:\n",
    "            fulfilled_item = self.orders.pop(0)\n",
    "            print(f\"The {fulfilled_item} is ready\")\n",
    "            return fulfilled_item\n",
    "    \n",
    "    def list_orders(self):\n",
    "        \"\"\"This method lists all the orders that are being prepared\"\"\"\n",
    "        print(self.orders)\n",
    "        return self.orders\n",
    "    \n",
    "    def due_amount(self):\n",
    "        \"\"\"This method calculates the due amount for the orders\"\"\"\n",
    "        total = 0\n",
    "        for order in self.orders:\n",
    "            for item in self.menu:\n",
    "                if order == item['name']:\n",
    "                    total += item['price']\n",
    "        print(f\"Total due amount : {total}\")\n",
    "        return total\n",
    "    \n",
    "    def cheapest_item(self):\n",
    "        \"\"\"This method prints the cheapest item on the menu\"\"\"\n",
    "        cheapest = self.menu[0]['price']\n",
    "        item_name = self.menu[0]['name']\n",
    "        for item in self.menu:\n",
    "            if item['price'] < cheapest:\n",
    "                cheapest = item['price']\n",
    "                item_name = item['name']\n",
    "        print(f'The cheapest item in the menu is {item_name}')\n",
    "        return item_name\n",
    "    \n",
    "    def drinks_only(self):\n",
    "        \"\"\"This method prints only the drinks in the menu\"\"\"\n",
    "        for item in self.menu:\n",
    "            if item['type'] == 'drink':\n",
    "                print(item['name'])\n",
    "    \n",
    "    def food_only(self):\n",
    "        \"\"\"This method prints only the food in the menu\"\"\"\n",
    "        for item in self.menu:\n",
    "            if item['type'] == 'food':\n",
    "                print(item['name'])"
   ]
  },
  {
   "cell_type": "code",
   "execution_count": 37,
   "id": "6adc0add",
   "metadata": {},
   "outputs": [],
   "source": [
    "menu = [{'name':'Coffee','type':'drink','price':30},{'name':'Crep','type':'food','price':60}]"
   ]
  },
  {
   "cell_type": "code",
   "execution_count": 38,
   "id": "42d294da",
   "metadata": {},
   "outputs": [],
   "source": [
    "place = CoffeeShop(name='Kareems Shop' , menu=menu)"
   ]
  },
  {
   "cell_type": "code",
   "execution_count": 39,
   "id": "b3e26b98",
   "metadata": {},
   "outputs": [
    {
     "name": "stdout",
     "output_type": "stream",
     "text": [
      "Your Coffee is being prepred\n",
      "Your Crep is being prepred\n"
     ]
    }
   ],
   "source": [
    "place.add_order('Coffee')\n",
    "place.add_order('Crep')"
   ]
  },
  {
   "cell_type": "code",
   "execution_count": 40,
   "id": "7c98eec6",
   "metadata": {},
   "outputs": [
    {
     "name": "stdout",
     "output_type": "stream",
     "text": [
      "This item is currently unavailable\n"
     ]
    }
   ],
   "source": [
    "place.add_order('Chocolate')"
   ]
  },
  {
   "cell_type": "code",
   "execution_count": 41,
   "id": "ca552556",
   "metadata": {},
   "outputs": [
    {
     "name": "stdout",
     "output_type": "stream",
     "text": [
      "['Coffee', 'Crep']\n"
     ]
    },
    {
     "data": {
      "text/plain": [
       "['Coffee', 'Crep']"
      ]
     },
     "execution_count": 41,
     "metadata": {},
     "output_type": "execute_result"
    }
   ],
   "source": [
    "place.list_orders()"
   ]
  },
  {
   "cell_type": "code",
   "execution_count": 42,
   "id": "266f4aec",
   "metadata": {},
   "outputs": [
    {
     "name": "stdout",
     "output_type": "stream",
     "text": [
      "Total due amount : 90\n"
     ]
    },
    {
     "data": {
      "text/plain": [
       "90"
      ]
     },
     "execution_count": 42,
     "metadata": {},
     "output_type": "execute_result"
    }
   ],
   "source": [
    "place.due_amount()"
   ]
  },
  {
   "cell_type": "code",
   "execution_count": 43,
   "id": "e7b3b0c4",
   "metadata": {},
   "outputs": [
    {
     "name": "stdout",
     "output_type": "stream",
     "text": [
      "The Coffee is ready\n"
     ]
    },
    {
     "data": {
      "text/plain": [
       "'Coffee'"
      ]
     },
     "execution_count": 43,
     "metadata": {},
     "output_type": "execute_result"
    }
   ],
   "source": [
    "place.fulfill_order()"
   ]
  },
  {
   "cell_type": "code",
   "execution_count": 44,
   "id": "e5be3258",
   "metadata": {},
   "outputs": [
    {
     "name": "stdout",
     "output_type": "stream",
     "text": [
      "Total due amount : 60\n"
     ]
    },
    {
     "data": {
      "text/plain": [
       "60"
      ]
     },
     "execution_count": 44,
     "metadata": {},
     "output_type": "execute_result"
    }
   ],
   "source": [
    "place.due_amount()"
   ]
  },
  {
   "cell_type": "code",
   "execution_count": 45,
   "id": "06701cd3",
   "metadata": {},
   "outputs": [
    {
     "name": "stdout",
     "output_type": "stream",
     "text": [
      "Coffee\n"
     ]
    }
   ],
   "source": [
    "place.drinks_only()"
   ]
  },
  {
   "cell_type": "code",
   "execution_count": 46,
   "id": "4ef51912",
   "metadata": {},
   "outputs": [
    {
     "name": "stdout",
     "output_type": "stream",
     "text": [
      "Crep\n"
     ]
    }
   ],
   "source": [
    "place.food_only()"
   ]
  },
  {
   "cell_type": "code",
   "execution_count": 22,
   "id": "be858dad",
   "metadata": {},
   "outputs": [
    {
     "name": "stdout",
     "output_type": "stream",
     "text": [
      "The cheapest item in the menu is Coffee\n"
     ]
    },
    {
     "data": {
      "text/plain": [
       "'Coffee'"
      ]
     },
     "execution_count": 22,
     "metadata": {},
     "output_type": "execute_result"
    }
   ],
   "source": [
    "place.cheapest_item()"
   ]
  },
  {
   "cell_type": "markdown",
   "id": "fa7b4060",
   "metadata": {},
   "source": [
    "------------------------------------------------------------------"
   ]
  },
  {
   "cell_type": "markdown",
   "id": "79ccc1bc",
   "metadata": {},
   "source": [
    "## Just for tests"
   ]
  },
  {
   "cell_type": "code",
   "execution_count": 23,
   "id": "ca80b5fc",
   "metadata": {},
   "outputs": [
    {
     "name": "stdout",
     "output_type": "stream",
     "text": [
      "[1, 2, 3]\n",
      "[2, 3]\n",
      "[3]\n"
     ]
    }
   ],
   "source": [
    "li = [1,2,3]\n",
    "print(li)\n",
    "li.remove(li[0])\n",
    "print(li)\n",
    "li.remove(li[0])\n",
    "print(li)"
   ]
  },
  {
   "cell_type": "code",
   "execution_count": 24,
   "id": "9eb84337",
   "metadata": {},
   "outputs": [
    {
     "data": {
      "text/plain": [
       "30"
      ]
     },
     "execution_count": 24,
     "metadata": {},
     "output_type": "execute_result"
    }
   ],
   "source": [
    "menu[0]['price']"
   ]
  },
  {
   "cell_type": "code",
   "execution_count": 25,
   "id": "0ec22c0d",
   "metadata": {},
   "outputs": [
    {
     "name": "stdout",
     "output_type": "stream",
     "text": [
      "30\n",
      "60\n"
     ]
    }
   ],
   "source": [
    "for item in menu:\n",
    "    print(item['price'])"
   ]
  }
 ],
 "metadata": {
  "kernelspec": {
   "display_name": "base",
   "language": "python",
   "name": "python3"
  },
  "language_info": {
   "codemirror_mode": {
    "name": "ipython",
    "version": 3
   },
   "file_extension": ".py",
   "mimetype": "text/x-python",
   "name": "python",
   "nbconvert_exporter": "python",
   "pygments_lexer": "ipython3",
   "version": "3.12.4"
  }
 },
 "nbformat": 4,
 "nbformat_minor": 5
}
