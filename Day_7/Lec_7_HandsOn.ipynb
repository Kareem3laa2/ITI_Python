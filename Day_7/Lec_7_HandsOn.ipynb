{
 "cells": [
  {
   "cell_type": "code",
   "execution_count": 13,
   "id": "e33b6cce",
   "metadata": {},
   "outputs": [],
   "source": [
    "class Resturant:\n",
    "    def __init__(self, resturant_name, cuisine_type):\n",
    "        self.resturant_name = resturant_name\n",
    "        self.cuisine_type = cuisine_type\n",
    "        self.number_served = 0\n",
    "    \n",
    "    def describe_resturant(self):\n",
    "        print(f\"Resturant name: {self.resturant_name}\")\n",
    "        print(f\"Cuisine type: {self.cuisine_type}\")\n",
    "    \n",
    "    def open_resturant(self):\n",
    "        print(f\"{self.resturant_name} is open!\")\n",
    "    \n",
    "    def set_number_served(self, number_served):\n",
    "        if number_served < 0:\n",
    "            print(\"Number of customers cannot be negative\")\n",
    "        else:\n",
    "            self.number_served = number_served\n",
    "    \n",
    "    def increment_number_served(self, number):\n",
    "        if number < 0:\n",
    "            print(\"Number of customers cannot be negative.\")\n",
    "        else:\n",
    "            self.number_served += number\n",
    "            print(f\"Number of customers served: {self.number_served}\")\n"
   ]
  },
  {
   "cell_type": "code",
   "execution_count": 14,
   "id": "87eac7be",
   "metadata": {},
   "outputs": [],
   "source": [
    "resturant = Resturant(\"Abo ammar\", \"Syrian\")"
   ]
  },
  {
   "cell_type": "code",
   "execution_count": 15,
   "id": "5ebecaa9",
   "metadata": {},
   "outputs": [
    {
     "name": "stdout",
     "output_type": "stream",
     "text": [
      "Abo ammar is open!\n",
      "Resturant name: Abo ammar\n",
      "Cuisine type: Syrian\n"
     ]
    }
   ],
   "source": [
    "resturant.open_resturant()\n",
    "resturant.describe_resturant()"
   ]
  },
  {
   "cell_type": "code",
   "execution_count": 16,
   "id": "a7a2b712",
   "metadata": {},
   "outputs": [
    {
     "name": "stdout",
     "output_type": "stream",
     "text": [
      "Number of customers served: 10\n"
     ]
    }
   ],
   "source": [
    "resturant.number_served = 10\n",
    "print(f\"Number of customers served: {resturant.number_served}\")"
   ]
  },
  {
   "cell_type": "code",
   "execution_count": 17,
   "id": "6627d2a4",
   "metadata": {},
   "outputs": [],
   "source": [
    "resturant.set_number_served(20)"
   ]
  },
  {
   "cell_type": "code",
   "execution_count": 18,
   "id": "7dab1b6d",
   "metadata": {},
   "outputs": [
    {
     "name": "stdout",
     "output_type": "stream",
     "text": [
      "Number of customers served: 25\n"
     ]
    }
   ],
   "source": [
    "resturant.increment_number_served(5)"
   ]
  },
  {
   "cell_type": "code",
   "execution_count": null,
   "id": "67fece72",
   "metadata": {},
   "outputs": [],
   "source": []
  }
 ],
 "metadata": {
  "kernelspec": {
   "display_name": "base",
   "language": "python",
   "name": "python3"
  },
  "language_info": {
   "codemirror_mode": {
    "name": "ipython",
    "version": 3
   },
   "file_extension": ".py",
   "mimetype": "text/x-python",
   "name": "python",
   "nbconvert_exporter": "python",
   "pygments_lexer": "ipython3",
   "version": "3.12.4"
  }
 },
 "nbformat": 4,
 "nbformat_minor": 5
}
