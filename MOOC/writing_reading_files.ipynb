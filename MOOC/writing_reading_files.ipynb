{
 "cells": [
  {
   "cell_type": "code",
   "execution_count": 1,
   "id": "2a214636",
   "metadata": {},
   "outputs": [],
   "source": [
    "with open('first_file.txt', 'w') as first_file:\n",
    "    first_file.write('This is the first line using open')"
   ]
  },
  {
   "cell_type": "code",
   "execution_count": 2,
   "id": "fa27589e",
   "metadata": {},
   "outputs": [],
   "source": [
    "with open('first_file.txt', 'w') as first_file:\n",
    "    first_file.write('Multiple Lines test!\\n')\n",
    "    first_file.write('Multiple Lines test!\\n')"
   ]
  },
  {
   "cell_type": "code",
   "execution_count": 4,
   "id": "b160280f",
   "metadata": {},
   "outputs": [],
   "source": [
    "with open('first_file.txt' , 'a') as first_file:\n",
    "    first_file.write('This is an append to the file\\n')\n",
    "    first_file.write('This is an append to the file')"
   ]
  },
  {
   "cell_type": "markdown",
   "id": "605345d3",
   "metadata": {},
   "source": [
    "## Diary"
   ]
  },
  {
   "cell_type": "code",
   "execution_count": null,
   "id": "34bd68fe",
   "metadata": {},
   "outputs": [],
   "source": [
    "while True:\n",
    "    print('1- add entry\\n2- read entries\\n0- quit')\n",
    "    entry = int(input('Function: '))\n",
    "    if entry >=0 & entry <=2:\n",
    "        if entry == 0:\n",
    "            break\n",
    "        elif entry == 1:\n",
    "            content = input('Diary entry: ')\n",
    "            with open('diary.txt' , 'a') as diary:\n",
    "                diary.write(f'{content}\\n')\n",
    "            print('Content Written Successfully')\n",
    "        elif entry == 2:\n",
    "            print('=========Content of the diary==========')\n",
    "            with open('diary.txt') as diary:\n",
    "                content = diary.read()\n",
    "                print(content)"
   ]
  },
  {
   "cell_type": "code",
   "execution_count": null,
   "id": "b44beac9",
   "metadata": {},
   "outputs": [],
   "source": []
  }
 ],
 "metadata": {
  "kernelspec": {
   "display_name": "base",
   "language": "python",
   "name": "python3"
  },
  "language_info": {
   "codemirror_mode": {
    "name": "ipython",
    "version": 3
   },
   "file_extension": ".py",
   "mimetype": "text/x-python",
   "name": "python",
   "nbconvert_exporter": "python",
   "pygments_lexer": "ipython3",
   "version": "3.12.4"
  }
 },
 "nbformat": 4,
 "nbformat_minor": 5
}
