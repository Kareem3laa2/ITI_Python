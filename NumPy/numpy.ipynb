{
 "cells": [
  {
   "cell_type": "code",
   "execution_count": 2,
   "id": "43e7f3a0",
   "metadata": {},
   "outputs": [],
   "source": [
    "import numpy as np"
   ]
  },
  {
   "cell_type": "markdown",
   "id": "d9d1fbde",
   "metadata": {},
   "source": [
    "## 1"
   ]
  },
  {
   "cell_type": "code",
   "execution_count": 14,
   "id": "37ccb088",
   "metadata": {},
   "outputs": [
    {
     "name": "stdout",
     "output_type": "stream",
     "text": [
      "[0. 0. 0. 0. 0. 0. 0. 0. 0. 0.]\n",
      "[1. 1. 1. 1. 1. 1. 1. 1. 1. 1.]\n",
      "[5. 5. 5. 5. 5. 5. 5. 5. 5. 5.]\n"
     ]
    }
   ],
   "source": [
    "print(np.zeros(10))\n",
    "print(np.ones(10))\n",
    "print(np.ones(10) * 5)\n"
   ]
  },
  {
   "cell_type": "markdown",
   "id": "5b7ee51e",
   "metadata": {},
   "source": [
    "------------------------------------------------------------------------"
   ]
  },
  {
   "cell_type": "markdown",
   "id": "14c8c3c9",
   "metadata": {},
   "source": [
    "## 2"
   ]
  },
  {
   "cell_type": "code",
   "execution_count": 4,
   "id": "79c92627",
   "metadata": {},
   "outputs": [
    {
     "data": {
      "text/plain": [
       "array([30, 32, 34, 36, 38, 40, 42, 44, 46, 48, 50, 52, 54, 56, 58, 60, 62,\n",
       "       64, 66, 68, 70])"
      ]
     },
     "execution_count": 4,
     "metadata": {},
     "output_type": "execute_result"
    }
   ],
   "source": [
    "np.arange(30,71,2)"
   ]
  },
  {
   "cell_type": "markdown",
   "id": "764527ee",
   "metadata": {},
   "source": [
    "------------------------------------------------------------------------"
   ]
  },
  {
   "cell_type": "markdown",
   "id": "bff66a83",
   "metadata": {},
   "source": [
    "## 3"
   ]
  },
  {
   "cell_type": "code",
   "execution_count": 5,
   "id": "8bccef8c",
   "metadata": {},
   "outputs": [
    {
     "data": {
      "text/plain": [
       "array([[0, 0, 0, 0, 0, 0],\n",
       "       [0, 0, 0, 0, 0, 0],\n",
       "       [0, 0, 0, 0, 0, 0],\n",
       "       [0, 0, 0, 0, 0, 0],\n",
       "       [0, 0, 0, 0, 0, 0]])"
      ]
     },
     "execution_count": 5,
     "metadata": {},
     "output_type": "execute_result"
    }
   ],
   "source": [
    "np.zeros(shape=(5,6),dtype=int)"
   ]
  },
  {
   "cell_type": "markdown",
   "id": "cd270c65",
   "metadata": {},
   "source": [
    "------------------------------------------------------------------------"
   ]
  },
  {
   "cell_type": "markdown",
   "id": "e9fb77f9",
   "metadata": {},
   "source": [
    "## 4"
   ]
  },
  {
   "cell_type": "code",
   "execution_count": 6,
   "id": "463cc8e0",
   "metadata": {},
   "outputs": [
    {
     "name": "stdout",
     "output_type": "stream",
     "text": [
      "[[0.68655793 0.90438337 0.29567974 0.54491484 0.7672255  0.79875542\n",
      "  0.69695185 0.92437779 0.1000992  0.18096479]\n",
      " [0.85249223 0.80274558 0.07900771 0.92964438 0.30747898 0.27086355\n",
      "  0.73862009 0.71148541 0.36487496 0.90521234]\n",
      " [0.02065888 0.6607674  0.65252948 0.86334229 0.97582818 0.33264045\n",
      "  0.62201391 0.98935913 0.50040355 0.06188625]\n",
      " [0.71523139 0.34805649 0.3925814  0.17024944 0.37590531 0.82718365\n",
      "  0.50809962 0.30503996 0.31562427 0.29762796]\n",
      " [0.29894979 0.62377909 0.91721369 0.32326324 0.71084772 0.90015261\n",
      "  0.11419078 0.32006318 0.15216981 0.08811385]\n",
      " [0.63199063 0.67562456 0.32609975 0.63206986 0.03971713 0.28569608\n",
      "  0.68886432 0.21476039 0.27989067 0.38545202]\n",
      " [0.53069199 0.61611572 0.5035974  0.84798388 0.31550742 0.36189323\n",
      "  0.49846156 0.81211684 0.20702958 0.43883763]\n",
      " [0.54316093 0.48625487 0.40101168 0.25406808 0.30665245 0.48110476\n",
      "  0.19283963 0.27879341 0.77248222 0.55291482]\n",
      " [0.50694151 0.71718333 0.27129779 0.97335142 0.55121311 0.60838387\n",
      "  0.19021875 0.62262999 0.34065286 0.61720222]\n",
      " [0.44075742 0.4736644  0.35970157 0.55303525 0.18747337 0.3063422\n",
      "  0.30377699 0.61600991 0.12375878 0.83273003]]\n",
      "0.020658875944078003\n",
      "0.989359126772006\n"
     ]
    }
   ],
   "source": [
    "arr = np.random.rand(10,10)\n",
    "print(arr)\n",
    "print(np.min(arr))\n",
    "print(np.max(arr))"
   ]
  },
  {
   "cell_type": "markdown",
   "id": "d0141472",
   "metadata": {},
   "source": [
    "------------------------------------------------------------------------"
   ]
  },
  {
   "cell_type": "markdown",
   "id": "720f7d13",
   "metadata": {},
   "source": [
    "## 5"
   ]
  },
  {
   "cell_type": "code",
   "execution_count": 13,
   "id": "bde12bee",
   "metadata": {},
   "outputs": [
    {
     "data": {
      "text/plain": [
       "array([[3, 9, 9],\n",
       "       [2, 2, 8],\n",
       "       [3, 3, 7]])"
      ]
     },
     "execution_count": 13,
     "metadata": {},
     "output_type": "execute_result"
    }
   ],
   "source": [
    "np.random.randint(2, 10, size=(3,3))"
   ]
  },
  {
   "cell_type": "markdown",
   "id": "75a4a22c",
   "metadata": {},
   "source": [
    "------------------------------------------------------------------------"
   ]
  },
  {
   "cell_type": "markdown",
   "id": "1396b192",
   "metadata": {},
   "source": [
    "## 6"
   ]
  },
  {
   "cell_type": "code",
   "execution_count": 8,
   "id": "8d296070",
   "metadata": {},
   "outputs": [
    {
     "data": {
      "text/plain": [
       "array([16, 17, 18, 19])"
      ]
     },
     "execution_count": 8,
     "metadata": {},
     "output_type": "execute_result"
    }
   ],
   "source": [
    "arr = np.arange(stop=20)\n",
    "arr[arr > 15]\n"
   ]
  },
  {
   "cell_type": "markdown",
   "id": "77a6400b",
   "metadata": {},
   "source": [
    "------------------------------------------------------------------------"
   ]
  },
  {
   "cell_type": "markdown",
   "id": "b53cbb10",
   "metadata": {},
   "source": [
    "## 7"
   ]
  },
  {
   "cell_type": "code",
   "execution_count": 9,
   "id": "4a56abdc",
   "metadata": {},
   "outputs": [
    {
     "name": "stdout",
     "output_type": "stream",
     "text": [
      "[[ 0  1  3  0  2  4]\n",
      " [ 5  7  9  6  8 10]]\n",
      "\n",
      "[[ 0  1  3]\n",
      " [ 5  7  9]\n",
      " [ 0  2  4]\n",
      " [ 6  8 10]]\n"
     ]
    }
   ],
   "source": [
    "arr1 = np.array([[0, 1, 3],\n",
    "                 [5, 7, 9]])\n",
    "arr2 = np.array([[0, 2, 4],\n",
    "                 [6, 8, 10]])\n",
    "\n",
    "print(np.hstack((arr1,arr2)))\n",
    "print()\n",
    "print(np.vstack((arr1,arr2)))"
   ]
  },
  {
   "cell_type": "markdown",
   "id": "6a5317b8",
   "metadata": {},
   "source": [
    "------------------------------------------------------------------------"
   ]
  },
  {
   "cell_type": "markdown",
   "id": "1b0f52d7",
   "metadata": {},
   "source": [
    "## 8"
   ]
  },
  {
   "cell_type": "code",
   "execution_count": 10,
   "id": "77d5b723",
   "metadata": {},
   "outputs": [
    {
     "name": "stdout",
     "output_type": "stream",
     "text": [
      "[ 1  1  1  1  1 11  1  1  1  1]\n"
     ]
    }
   ],
   "source": [
    "ones = np.ones(shape=(10,), dtype=int)\n",
    "ones[5] = 11\n",
    "print(ones)\n"
   ]
  },
  {
   "cell_type": "markdown",
   "id": "b3409b04",
   "metadata": {},
   "source": [
    "------------------------------------------------------------------------"
   ]
  },
  {
   "cell_type": "markdown",
   "id": "6140be99",
   "metadata": {},
   "source": [
    "## 9"
   ]
  },
  {
   "cell_type": "code",
   "execution_count": 11,
   "id": "1aaba39b",
   "metadata": {},
   "outputs": [
    {
     "name": "stdout",
     "output_type": "stream",
     "text": [
      "[  5  10  15 100]\n"
     ]
    }
   ],
   "source": [
    "arr = np.array([5,10,15])\n",
    "arr_after_append = np.append(arr , 100)\n",
    "print(arr_after_append)"
   ]
  },
  {
   "cell_type": "markdown",
   "id": "72316889",
   "metadata": {},
   "source": [
    "------------------------------------------------------------------------"
   ]
  },
  {
   "cell_type": "markdown",
   "id": "7c91d345",
   "metadata": {},
   "source": [
    "## 10"
   ]
  },
  {
   "cell_type": "markdown",
   "id": "b69e08d7",
   "metadata": {},
   "source": [
    "## Flip: Can used in 2d-array to flip rows, columns or both"
   ]
  },
  {
   "cell_type": "code",
   "execution_count": 12,
   "id": "d3f0056a",
   "metadata": {},
   "outputs": [
    {
     "name": "stdout",
     "output_type": "stream",
     "text": [
      "[500 300 200 100]\n",
      "\n",
      "[500 300 200 100]\n"
     ]
    }
   ],
   "source": [
    "arr = np.array([100, 200, 300, 500])\n",
    "arr_flip1 = arr[::-1]\n",
    "arr_flip2 = np.flip(arr)\n",
    "\n",
    "print(arr_flip1)\n",
    "print()\n",
    "print(arr_flip2)"
   ]
  }
 ],
 "metadata": {
  "kernelspec": {
   "display_name": "base",
   "language": "python",
   "name": "python3"
  },
  "language_info": {
   "codemirror_mode": {
    "name": "ipython",
    "version": 3
   },
   "file_extension": ".py",
   "mimetype": "text/x-python",
   "name": "python",
   "nbconvert_exporter": "python",
   "pygments_lexer": "ipython3",
   "version": "3.12.4"
  }
 },
 "nbformat": 4,
 "nbformat_minor": 5
}
