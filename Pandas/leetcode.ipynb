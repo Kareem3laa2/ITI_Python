{
 "cells": [
  {
   "cell_type": "markdown",
   "id": "0b40e03d",
   "metadata": {},
   "source": [
    "## Problem 1"
   ]
  },
  {
   "cell_type": "code",
   "execution_count": 2,
   "id": "59f6f422",
   "metadata": {},
   "outputs": [],
   "source": [
    "import pandas as pd\n",
    "\n",
    "def createDataframe(student_data: list[list[int]]) -> pd.DataFrame:\n",
    "    df = pd.DataFrame(student_data,columns=['student_id' , 'age'])\n",
    "    return df\n",
    "    "
   ]
  },
  {
   "cell_type": "markdown",
   "id": "6a185f0f",
   "metadata": {},
   "source": [
    "## Problem 2"
   ]
  },
  {
   "cell_type": "code",
   "execution_count": 3,
   "id": "0c772861",
   "metadata": {},
   "outputs": [],
   "source": [
    "import pandas as pd\n",
    "\n",
    "def getDataframeSize(players: pd.DataFrame) -> list[int]:\n",
    "    return[players.shape[0],players.shape[1]]\n",
    "    "
   ]
  },
  {
   "cell_type": "markdown",
   "id": "e09cfba9",
   "metadata": {},
   "source": [
    "## Problem 3"
   ]
  },
  {
   "cell_type": "code",
   "execution_count": 4,
   "id": "1c782d5c",
   "metadata": {},
   "outputs": [],
   "source": [
    "import pandas as pd\n",
    "\n",
    "def selectFirstRows(employees: pd.DataFrame) -> pd.DataFrame:\n",
    "    return employees.head(3)\n",
    "    "
   ]
  },
  {
   "cell_type": "markdown",
   "id": "644c4694",
   "metadata": {},
   "source": [
    "## Problem 4"
   ]
  },
  {
   "cell_type": "code",
   "execution_count": 5,
   "id": "fdc0cbb9",
   "metadata": {},
   "outputs": [],
   "source": [
    "import pandas as pd\n",
    "\n",
    "def selectData(students: pd.DataFrame) -> pd.DataFrame:\n",
    "    filtered_students =  students[students['student_id'] == 101]\n",
    "    return filtered_students[['name','age']]\n",
    "    "
   ]
  },
  {
   "cell_type": "markdown",
   "id": "aa6e5ab8",
   "metadata": {},
   "source": [
    "## Problem 5"
   ]
  },
  {
   "cell_type": "code",
   "execution_count": null,
   "id": "8d26a1b7",
   "metadata": {},
   "outputs": [],
   "source": [
    "import pandas as pd\n",
    "\n",
    "def createBonusColumn(employees: pd.DataFrame) -> pd.DataFrame:\n",
    "    employees['bonus'] = employees['salary'] * 2\n",
    "    return employees\n",
    "    "
   ]
  },
  {
   "cell_type": "markdown",
   "id": "b0090c1f",
   "metadata": {},
   "source": [
    "## Problem 6"
   ]
  },
  {
   "cell_type": "code",
   "execution_count": 6,
   "id": "bc55c523",
   "metadata": {},
   "outputs": [],
   "source": [
    "import pandas as pd\n",
    "\n",
    "def dropDuplicateEmails(customers: pd.DataFrame) -> pd.DataFrame:\n",
    "    cleaned = customers.drop_duplicates(subset= 'email' , keep='first')\n",
    "    return cleaned\n",
    "    "
   ]
  },
  {
   "cell_type": "markdown",
   "id": "bb1cfeed",
   "metadata": {},
   "source": [
    "## Problem 7"
   ]
  },
  {
   "cell_type": "code",
   "execution_count": 7,
   "id": "c0762b40",
   "metadata": {},
   "outputs": [],
   "source": [
    "import pandas as pd\n",
    "\n",
    "def dropMissingData(students: pd.DataFrame) -> pd.DataFrame:\n",
    "    cleaned = students.dropna(subset = 'name' , axis=0)\n",
    "    return cleaned\n",
    "    "
   ]
  },
  {
   "cell_type": "markdown",
   "id": "b9bcfafd",
   "metadata": {},
   "source": [
    "## Problem 8"
   ]
  },
  {
   "cell_type": "code",
   "execution_count": 8,
   "id": "5665ce4b",
   "metadata": {},
   "outputs": [],
   "source": [
    "import pandas as pd\n",
    "\n",
    "def modifySalaryColumn(employees: pd.DataFrame) -> pd.DataFrame:\n",
    "    employees['salary'] = employees['salary'] * 2\n",
    "    return employees"
   ]
  },
  {
   "cell_type": "markdown",
   "id": "760981a8",
   "metadata": {},
   "source": [
    "## Problem 9"
   ]
  },
  {
   "cell_type": "code",
   "execution_count": 9,
   "id": "13881bef",
   "metadata": {},
   "outputs": [],
   "source": [
    "import pandas as pd\n",
    "\n",
    "def renameColumns(students: pd.DataFrame) -> pd.DataFrame:\n",
    "    students.rename(columns={'id':'student_id' , 'first':'first_name' , 'last':'last_name', 'age':'age_in_years'},inplace = True)\n",
    "    return students\n",
    "    "
   ]
  },
  {
   "cell_type": "markdown",
   "id": "a2ff7f05",
   "metadata": {},
   "source": [
    "## Problem 10"
   ]
  },
  {
   "cell_type": "code",
   "execution_count": 10,
   "id": "2ad02191",
   "metadata": {},
   "outputs": [],
   "source": [
    "import pandas as pd\n",
    "\n",
    "def changeDatatype(students: pd.DataFrame) -> pd.DataFrame:\n",
    "    students['grade']= students['grade'].astype(int)\n",
    "    return students\n",
    "    "
   ]
  },
  {
   "cell_type": "markdown",
   "id": "ff1d998c",
   "metadata": {},
   "source": [
    "## Problem 11"
   ]
  },
  {
   "cell_type": "code",
   "execution_count": 12,
   "id": "c238e8f4",
   "metadata": {},
   "outputs": [],
   "source": [
    "import pandas as pd\n",
    "\n",
    "def fillMissingValues(products: pd.DataFrame) -> pd.DataFrame:\n",
    "    products['quantity'].fillna(0, inplace = True)\n",
    "    return products\n",
    "    "
   ]
  },
  {
   "cell_type": "markdown",
   "id": "3ae496fd",
   "metadata": {},
   "source": [
    "## Problem 12"
   ]
  },
  {
   "cell_type": "code",
   "execution_count": 13,
   "id": "d2d956e7",
   "metadata": {},
   "outputs": [],
   "source": [
    "import pandas as pd\n",
    "\n",
    "def concatenateTables(df1: pd.DataFrame, df2: pd.DataFrame) -> pd.DataFrame:\n",
    "    df3 = pd.concat([df1,df2] , axis = 0)\n",
    "    return df3"
   ]
  },
  {
   "cell_type": "markdown",
   "id": "a095618b",
   "metadata": {},
   "source": [
    "## Problem 13"
   ]
  },
  {
   "cell_type": "code",
   "execution_count": null,
   "id": "dd0a5b8b",
   "metadata": {},
   "outputs": [],
   "source": [
    "import pandas as pd\n",
    "\n",
    "def pivotTable(weather: pd.DataFrame) -> pd.DataFrame:\n",
    "    df = weather.pivot(index = 'month' , columns = 'city' , values = 'temperature')\n",
    "    return df\n",
    "    "
   ]
  },
  {
   "cell_type": "markdown",
   "id": "718622af",
   "metadata": {},
   "source": [
    "## Problem 14"
   ]
  },
  {
   "cell_type": "code",
   "execution_count": 15,
   "id": "b341bc19",
   "metadata": {},
   "outputs": [],
   "source": [
    "import pandas as pd\n",
    "\n",
    "def meltTable(report: pd.DataFrame) -> pd.DataFrame:\n",
    "    df = report.melt(\n",
    "     id_vars = 'product',\n",
    "     var_name = 'quarter',\n",
    "     value_vars = ['quarter_1','quarter_2','quarter_3','quarter_4',],\n",
    "     value_name = 'sales',\n",
    "     )\n",
    "    return df\n",
    "    "
   ]
  },
  {
   "cell_type": "markdown",
   "id": "69d6731d",
   "metadata": {},
   "source": [
    "## Problem 15"
   ]
  },
  {
   "cell_type": "code",
   "execution_count": 14,
   "id": "9a2b6880",
   "metadata": {},
   "outputs": [],
   "source": [
    "import pandas as pd\n",
    "\n",
    "def findHeavyAnimals(animals: pd.DataFrame) -> pd.DataFrame:\n",
    "    df = animals[animals['weight'] > 100]\n",
    "    df = df.sort_values(by='weight' , ascending = False)\n",
    "    return df[['name']]\n",
    "    "
   ]
  }
 ],
 "metadata": {
  "kernelspec": {
   "display_name": "base",
   "language": "python",
   "name": "python3"
  },
  "language_info": {
   "codemirror_mode": {
    "name": "ipython",
    "version": 3
   },
   "file_extension": ".py",
   "mimetype": "text/x-python",
   "name": "python",
   "nbconvert_exporter": "python",
   "pygments_lexer": "ipython3",
   "version": "3.12.4"
  }
 },
 "nbformat": 4,
 "nbformat_minor": 5
}
