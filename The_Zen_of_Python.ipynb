{
 "cells": [
  {
   "cell_type": "markdown",
   "id": "85ed32a2",
   "metadata": {},
   "source": [
    "## Beautiful is better than ugly"
   ]
  },
  {
   "cell_type": "markdown",
   "id": "06d381ae",
   "metadata": {},
   "source": [
    "#### Example of an ugly code"
   ]
  },
  {
   "cell_type": "code",
   "execution_count": null,
   "id": "8d875adb",
   "metadata": {},
   "outputs": [],
   "source": [
    "# Ugly code\n",
    "def f(x):return x*x+2*x+1\n"
   ]
  },
  {
   "cell_type": "markdown",
   "id": "8faafcfe",
   "metadata": {},
   "source": [
    "#### Example of an Beautiful code"
   ]
  },
  {
   "cell_type": "code",
   "execution_count": null,
   "id": "ef6d4f78",
   "metadata": {},
   "outputs": [],
   "source": [
    "# Beautiful code\n",
    "def compute_quadratic(x):\n",
    "    return x * x + 2 * x + 1"
   ]
  },
  {
   "cell_type": "markdown",
   "id": "82e2e884",
   "metadata": {},
   "source": [
    "----------------------------------------------------------------------------------------------------------------"
   ]
  },
  {
   "cell_type": "markdown",
   "id": "202d6310",
   "metadata": {},
   "source": [
    "## Explicit is better than implicit"
   ]
  },
  {
   "cell_type": "code",
   "execution_count": null,
   "id": "cdff5718",
   "metadata": {},
   "outputs": [],
   "source": [
    "from math import *\n",
    "\n",
    "print(sqrt(16))  # Where did sqrt come from?"
   ]
  },
  {
   "cell_type": "code",
   "execution_count": null,
   "id": "43f1204b",
   "metadata": {},
   "outputs": [],
   "source": [
    "import math\n",
    "\n",
    "print(math.sqrt(16))"
   ]
  },
  {
   "cell_type": "markdown",
   "id": "df4ccc28",
   "metadata": {},
   "source": [
    "----------------------------------------------------------------------------------------------------------------"
   ]
  },
  {
   "cell_type": "markdown",
   "id": "30b1f09b",
   "metadata": {},
   "source": [
    "## Simple is better than complex"
   ]
  },
  {
   "cell_type": "code",
   "execution_count": 1,
   "id": "4d546064",
   "metadata": {},
   "outputs": [
    {
     "name": "stdout",
     "output_type": "stream",
     "text": [
      "[2, 4]\n"
     ]
    }
   ],
   "source": [
    "# Complex\n",
    "numbers = [1, 2, 3, 4, 5]\n",
    "evens = list(filter(lambda x: x % 2 == 0, numbers))\n",
    "print(evens)"
   ]
  },
  {
   "cell_type": "code",
   "execution_count": null,
   "id": "800343b0",
   "metadata": {},
   "outputs": [
    {
     "name": "stdout",
     "output_type": "stream",
     "text": [
      "[2, 4]\n"
     ]
    }
   ],
   "source": [
    "# Simple and readable\n",
    "numbers = [1, 2, 3, 4, 5]\n",
    "evens = []\n",
    "for x in numbers:\n",
    "    if x % 2 == 0:\n",
    "        evens.append(x)\n",
    "print(evens)"
   ]
  },
  {
   "cell_type": "markdown",
   "id": "a01808ea",
   "metadata": {},
   "source": [
    "----------------------------------------------------------------------------------------------------------------"
   ]
  },
  {
   "cell_type": "markdown",
   "id": "761e2066",
   "metadata": {},
   "source": [
    "## Complex is Better than Complicated"
   ]
  },
  {
   "cell_type": "code",
   "execution_count": 3,
   "id": "06b72117",
   "metadata": {},
   "outputs": [
    {
     "name": "stdout",
     "output_type": "stream",
     "text": [
      "Valid number\n"
     ]
    }
   ],
   "source": [
    "# Complicated\n",
    "x = 5\n",
    "if x > 0:\n",
    "    if x < 10:\n",
    "        if x % 2 == 1:\n",
    "            print(\"Valid number\")\n"
   ]
  },
  {
   "cell_type": "code",
   "execution_count": 4,
   "id": "32a31118",
   "metadata": {},
   "outputs": [
    {
     "name": "stdout",
     "output_type": "stream",
     "text": [
      "Valid number\n"
     ]
    }
   ],
   "source": [
    "# Complex but better\n",
    "x = 5\n",
    "if x > 0 and x < 10 and x % 2 == 1:\n",
    "    print(\"Valid number\")"
   ]
  },
  {
   "cell_type": "markdown",
   "id": "ba8073e9",
   "metadata": {},
   "source": [
    "----------------------------------------------------------------------------------------------------------------"
   ]
  },
  {
   "cell_type": "markdown",
   "id": "ad546d9b",
   "metadata": {},
   "source": [
    "## Flat is Better than Nested"
   ]
  },
  {
   "cell_type": "code",
   "execution_count": 5,
   "id": "da818c91",
   "metadata": {},
   "outputs": [
    {
     "name": "stdout",
     "output_type": "stream",
     "text": [
      "Even number between 0 and 100\n"
     ]
    }
   ],
   "source": [
    "# Too nested\n",
    "x = 10\n",
    "if x > 0:\n",
    "    if x < 100:\n",
    "        if x % 2 == 0:\n",
    "            print(\"Even number between 0 and 100\")\n"
   ]
  },
  {
   "cell_type": "code",
   "execution_count": 6,
   "id": "dd30e8b8",
   "metadata": {},
   "outputs": [
    {
     "name": "stdout",
     "output_type": "stream",
     "text": [
      "Even number between 0 and 100\n"
     ]
    }
   ],
   "source": [
    "# Flatter\n",
    "x = 10\n",
    "if x > 0 and x < 100 and x % 2 == 0:\n",
    "    print(\"Even number between 0 and 100\")"
   ]
  },
  {
   "cell_type": "markdown",
   "id": "007cf713",
   "metadata": {},
   "source": [
    "----------------------------------------------------------------------------------------------------------------"
   ]
  },
  {
   "cell_type": "code",
   "execution_count": null,
   "id": "89134b8c",
   "metadata": {},
   "outputs": [],
   "source": []
  },
  {
   "cell_type": "code",
   "execution_count": null,
   "id": "356a5cc5",
   "metadata": {},
   "outputs": [],
   "source": []
  },
  {
   "cell_type": "code",
   "execution_count": null,
   "id": "a29d9657",
   "metadata": {},
   "outputs": [],
   "source": []
  },
  {
   "cell_type": "code",
   "execution_count": null,
   "id": "baea14cb",
   "metadata": {},
   "outputs": [],
   "source": []
  },
  {
   "cell_type": "code",
   "execution_count": null,
   "id": "46419c62",
   "metadata": {},
   "outputs": [],
   "source": []
  },
  {
   "cell_type": "markdown",
   "id": "b48392a7",
   "metadata": {},
   "source": [
    "## Sparse is Better than Dense\n",
    "#### Don't Write every thing in one line\n",
    "#### Code should be spaced out with good formatting"
   ]
  },
  {
   "cell_type": "markdown",
   "id": "7b2f2a4f",
   "metadata": {},
   "source": [
    "## *Each Line should has a Single Action*"
   ]
  },
  {
   "cell_type": "code",
   "execution_count": 7,
   "id": "02499106",
   "metadata": {},
   "outputs": [
    {
     "name": "stdout",
     "output_type": "stream",
     "text": [
      "[2, 4, 6]\n"
     ]
    }
   ],
   "source": [
    "# Dense\n",
    "a=[1,2,3];b=[x*2 for x in a];print(b)\n"
   ]
  },
  {
   "cell_type": "code",
   "execution_count": 8,
   "id": "696f588d",
   "metadata": {},
   "outputs": [
    {
     "name": "stdout",
     "output_type": "stream",
     "text": [
      "[2, 4, 6]\n"
     ]
    }
   ],
   "source": [
    "# Sparse\n",
    "a = [1, 2, 3]\n",
    "b = []\n",
    "for x in a:\n",
    "    b.append(x * 2)\n",
    "print(b)"
   ]
  },
  {
   "cell_type": "markdown",
   "id": "9cb43e69",
   "metadata": {},
   "source": [
    "----------------------------------------------------------------------------------------------------------------"
   ]
  },
  {
   "cell_type": "code",
   "execution_count": null,
   "id": "016b093b",
   "metadata": {},
   "outputs": [],
   "source": [
    "# Dense\n",
    "results=[x*2 for x in range(10) if x%2==0 and x>4]"
   ]
  },
  {
   "cell_type": "code",
   "execution_count": null,
   "id": "9fa2add6",
   "metadata": {},
   "outputs": [],
   "source": [
    "# Sparse\n",
    "results = []\n",
    "for x in range(10):\n",
    "    if x % 2 == 0 and x > 4:\n",
    "        results.append(x * 2)"
   ]
  },
  {
   "cell_type": "markdown",
   "id": "346ae6a8",
   "metadata": {},
   "source": [
    "----------------------------------------------------------------------------------------------------------------"
   ]
  },
  {
   "cell_type": "code",
   "execution_count": 3,
   "id": "15f623a0",
   "metadata": {},
   "outputs": [
    {
     "name": "stdout",
     "output_type": "stream",
     "text": [
      "[[0, 0, 0], [0, 1, 2], [0, 2, 4]]\n"
     ]
    }
   ],
   "source": [
    "# Desnse\n",
    "matrix=[[i*j for j in range(3)] for i in range(3)];print(matrix)"
   ]
  },
  {
   "cell_type": "code",
   "execution_count": null,
   "id": "4040b545",
   "metadata": {},
   "outputs": [],
   "source": []
  },
  {
   "cell_type": "code",
   "execution_count": null,
   "id": "5f205292",
   "metadata": {},
   "outputs": [
    {
     "name": "stdout",
     "output_type": "stream",
     "text": [
      "[[0, 0, 0], [0, 1, 2], [0, 2, 4]]\n"
     ]
    }
   ],
   "source": [
    "# Sparse\n",
    "matrix = []\n",
    "for i in range(3):\n",
    "    row = []\n",
    "    for j in range(3):\n",
    "        row.append(i * j)\n",
    "    matrix.append(row)\n",
    "\n",
    "print(matrix)\n"
   ]
  },
  {
   "cell_type": "code",
   "execution_count": null,
   "id": "e507d1a5",
   "metadata": {},
   "outputs": [],
   "source": [
    "[0, 1, 2]\n",
    "[0, 1, 2]"
   ]
  },
  {
   "cell_type": "markdown",
   "id": "53dd3f90",
   "metadata": {},
   "source": [
    "## Sparse doesn't mean slow or inefficient. It means readable, maintainable, and clean."
   ]
  },
  {
   "cell_type": "code",
   "execution_count": null,
   "id": "d372ae09",
   "metadata": {},
   "outputs": [],
   "source": []
  },
  {
   "cell_type": "code",
   "execution_count": null,
   "id": "a4111225",
   "metadata": {},
   "outputs": [],
   "source": []
  },
  {
   "cell_type": "code",
   "execution_count": null,
   "id": "e07b2e26",
   "metadata": {},
   "outputs": [],
   "source": []
  },
  {
   "cell_type": "code",
   "execution_count": null,
   "id": "22738d52",
   "metadata": {},
   "outputs": [],
   "source": []
  },
  {
   "cell_type": "markdown",
   "id": "fa2b5467",
   "metadata": {},
   "source": [
    "## Readability Counts\n",
    "#### Code Should be Easy to Read"
   ]
  },
  {
   "cell_type": "code",
   "execution_count": 9,
   "id": "adb21ea1",
   "metadata": {},
   "outputs": [
    {
     "name": "stdout",
     "output_type": "stream",
     "text": [
      "KareemAlaa\n"
     ]
    }
   ],
   "source": [
    "# Hard to read\n",
    "a=\"Kareem\";b=\"Alaa\";c= a + b;print(c)\n"
   ]
  },
  {
   "cell_type": "code",
   "execution_count": 10,
   "id": "cbf4c730",
   "metadata": {},
   "outputs": [
    {
     "name": "stdout",
     "output_type": "stream",
     "text": [
      "KareemAlaa\n"
     ]
    }
   ],
   "source": [
    "# Easy to read\n",
    "first_name = \"Kareem\"\n",
    "last_name = \"Alaa\"\n",
    "full_name = a + b\n",
    "print(full_name)"
   ]
  },
  {
   "cell_type": "markdown",
   "id": "77b2ebd4",
   "metadata": {},
   "source": [
    "----------------------------------------------------------------------------------------------------------------"
   ]
  },
  {
   "cell_type": "markdown",
   "id": "20b5f24f",
   "metadata": {},
   "source": [
    "## Errors should never pass silently"
   ]
  },
  {
   "cell_type": "code",
   "execution_count": 11,
   "id": "700bec10",
   "metadata": {},
   "outputs": [],
   "source": [
    "# Bad (ignoring the error)\n",
    "try:\n",
    "    x = 1 / 0\n",
    "except:\n",
    "    pass\n",
    "\n"
   ]
  },
  {
   "cell_type": "code",
   "execution_count": 12,
   "id": "ac516b6d",
   "metadata": {},
   "outputs": [
    {
     "name": "stdout",
     "output_type": "stream",
     "text": [
      "You can't divide by zero!\n"
     ]
    }
   ],
   "source": [
    "# Good\n",
    "try:\n",
    "    x = 1 / 0\n",
    "except ZeroDivisionError:\n",
    "    print(\"You can't divide by zero!\")"
   ]
  },
  {
   "cell_type": "markdown",
   "id": "dd3329d0",
   "metadata": {},
   "source": [
    "----------------------------------------------------------------------------------------------------------------"
   ]
  },
  {
   "cell_type": "markdown",
   "id": "3eba960a",
   "metadata": {},
   "source": [
    "## Unless explicity silenced"
   ]
  },
  {
   "cell_type": "code",
   "execution_count": 13,
   "id": "33e21356",
   "metadata": {},
   "outputs": [
    {
     "name": "stdout",
     "output_type": "stream",
     "text": [
      "This feature is not available right now.\n"
     ]
    }
   ],
   "source": [
    "try:\n",
    "    import optional_module\n",
    "except ImportError:\n",
    "    print(\"This feature is not available right now.\")\n"
   ]
  },
  {
   "cell_type": "code",
   "execution_count": null,
   "id": "79bca49d",
   "metadata": {},
   "outputs": [],
   "source": []
  }
 ],
 "metadata": {
  "kernelspec": {
   "display_name": "base",
   "language": "python",
   "name": "python3"
  },
  "language_info": {
   "codemirror_mode": {
    "name": "ipython",
    "version": 3
   },
   "file_extension": ".py",
   "mimetype": "text/x-python",
   "name": "python",
   "nbconvert_exporter": "python",
   "pygments_lexer": "ipython3",
   "version": "3.12.4"
  }
 },
 "nbformat": 4,
 "nbformat_minor": 5
}
